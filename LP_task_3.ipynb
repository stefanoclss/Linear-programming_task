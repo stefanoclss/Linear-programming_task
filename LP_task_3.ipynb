{
 "cells": [
  {
   "cell_type": "markdown",
   "metadata": {},
   "source": [
    "# Taak - Lineair Programmeren"
   ]
  },
  {
   "cell_type": "markdown",
   "metadata": {},
   "source": [
    "## PuLP\n",
    "\n",
    "Installeer PuLP via conda in de terminal:<br>\n",
    "conda install -c conda-forge pulp"
   ]
  },
  {
   "cell_type": "code",
   "execution_count": 1,
   "metadata": {},
   "outputs": [],
   "source": [
    "from pulp import *\n",
    "import math\n",
    "import matplotlib.pyplot as plt\n",
    "import numpy as np"
   ]
  },
  {
   "cell_type": "markdown",
   "metadata": {},
   "source": [
    "## Beschrijving van het probleem\n",
    "\n",
    "Veronderstel dat je 100 euro ter beschikking hebt om te investeren. Iedere dag van de week (maandag t.e.m. vrijdag), maar niet tijdens het weekend (zaterdag en zondag), kan je beslissen hoeveel geld je wilt investeren. Als je beslist om een investering te maken, <u>moet</u>\n",
    "je de volgende dag 50% van de initiele investering bijleggen. De dag erna krijg je\n",
    "2 keer zoveel van je initiele investering terug. Uiteindelijk wil je op zondag jouw\n",
    "totale winst berekenen.\n",
    "Bijvoorbeeld, een naive methode zou zijn om steeds het hoogst mogelijke bedrag te\n",
    "investeren:\n",
    "* Maandag: Je beslist om 66.66 euro te investeren. (33.33 euro over)\n",
    "* Dinsdag: Je moet 33.33 euro bijleggen. (0 euro over)\n",
    "* Woensdag: Je krijgt 133.32 euro terug. Je investeert nu 88.88 euro. (44.44 euro over)\n",
    "* Donderdag: Je moet 44.44 euro bijleggen. (0 euro over)\n",
    "* Vrijdag: Je krijgt 177.75 euro terug.  Je investeert nu 118.5 euro. (59.25 euro over)\n",
    "* Zaterdag: Je moet 59.25 euro bijleggen. (0 euro over)\n",
    "* Zondag: Je hebt nu in totaal 237 euro.\n",
    "\n",
    "Het probleem met deze methode is dat je de opportuniteit om te investeren op dinsdag en donderdag verliest. Je beslist om dit proces te optimaliseren m.b.v. lineair programmeren."
   ]
  },
  {
   "cell_type": "markdown",
   "metadata": {},
   "source": [
    "## Rapport\n",
    "\n",
    "Bespreek de onderstaande stellingen en vragen.\n",
    "\n",
    "1. Stel het bovenstaand probleem op als een <i>Linear Programming</i> probleem in <u>eerste primale vorm</u>.\n",
    "2. Los het probleem op gebruikmakend van PuLP.\n",
    "3. Bespreek de werking van de tableaumethode in je eigen woorden.\n",
    "4. Stel dat je geen ondergrens hebt voor de variabelen (dus, $\\forall x\\ :\\ x \\in \\mathbb{R}$), en dus negatief geld investeren wordt mogelijk. Bestaat er nog steeds een oplossing, en zoja, startend van het nulpunt (dus, $x = 0, \\forall x$), kan de tableaumethode deze vinden? Bespreek."
   ]
  },
  {
   "cell_type": "code",
   "execution_count": 2,
   "metadata": {},
   "outputs": [
    {
     "name": "stdout",
     "output_type": "stream",
     "text": [
      "investering van maandag:   44.168734 €\n",
      "investering van dinsdag:   33.746898 €\n",
      "investering van woensdag:   71.46402 €\n",
      "investering van donderdag:   31.761787 €\n",
      "investering van vrijdag:   127.04715 €\n",
      "totaal geld op zondag:   254.0943 €\n"
     ]
    }
   ],
   "source": [
    "\n",
    "# Create problem \n",
    "prob = LpProblem(\"Mixed products\", LpMaximize)\n",
    "\n",
    "#days \n",
    "Investment_1 = LpVariable(\"Investment_1\", cat='continious', lowBound=0)   \n",
    "Investment_2 = LpVariable(\"Investment_2\", cat='continious', lowBound=0)\n",
    "Investment_3 = LpVariable(\"Investment_3\", cat='continious', lowBound=0)   \n",
    "Investment_4 = LpVariable(\"Investment_4\", cat='continious', lowBound=0)\n",
    "Investment_5 = LpVariable(\"Investment_5\", cat='continious', lowBound=0)\n",
    "\n",
    "# Objective Function:\n",
    "## Profit\n",
    "prob += Investment_5 * 2\n",
    "\n",
    "\n",
    "# Constraints: \n",
    "prob += Investment_1 + Investment_2*0 + Investment_3*0 + Investment_4*0 + Investment_5*0   <= (2/3)*100\n",
    "prob += Investment_1*(3/2) + Investment_2 + Investment_3*0 + Investment_4*0 + Investment_5*0 <= 100\n",
    "prob += -Investment_1*(1/2) + Investment_2*(3/2) + Investment_3 + Investment_4*0 + Investment_5*0 <= 100\n",
    "prob += -Investment_1*(1/2) - Investment_2*(1/2) + Investment_3*(3/2) + Investment_4 + Investment_5*0 <= 100\n",
    "prob += -Investment_1*(1/2) - Investment_2*(1/2) - Investment_3*(1/2) + Investment_4*(3/2) + Investment_5 <= 100\n",
    "prob += -Investment_1*(1/2) - Investment_2*(1/2) - Investment_3*(1/2) - Investment_4*(1/2) + Investment_5*(3/2) <= 100\n",
    "prob += -Investment_1*(1/2) - Investment_2*(1/2) - Investment_3*(1/2) - Investment_4*(1/2) - Investment_5*(1/2) <= 100\n",
    "\n",
    "\n",
    "#print(prob)\n",
    "\n",
    "status = prob.solve()    # Solver \n",
    "#print(LpStatus[status])   # The solution status \n",
    "  \n",
    "# Printing the final solution\n",
    "print('investering van maandag:  ' ,value(Investment_1), '€')\n",
    "print('investering van dinsdag:  ' ,value(Investment_2), '€')\n",
    "print('investering van woensdag:  ' ,value(Investment_3), '€')\n",
    "print('investering van donderdag:  ' ,value(Investment_4), '€')\n",
    "print('investering van vrijdag:  ' ,value(Investment_5), '€')\n",
    "print('totaal geld op zondag:  ' ,value(prob.objective), '€')\n",
    "\n"
   ]
  },
  {
   "cell_type": "markdown",
   "metadata": {},
   "source": [
    "# 1) Werking code\n",
    "De intuïtie voor de eerste primale vorm is als volgt, eerst voegen we op de diagonaal alle investeringen toe die we zullen doen.\n",
    "De matrix ziet er dan als volgt uit:\n",
    "\\begin{equation}\n",
    "\\begin{bmatrix}\n",
    "x1 & 0 & 0 & 0 & 0 \\\\\n",
    "0 & x2 & 0 & 0 & 0 \\\\\n",
    "0 & 0 & x3 & 0 & 0 \\\\\n",
    "0 & 0 & 0 & x4 & 0 \\\\\n",
    "0 & 0 & 0 & 0 & x5 \\\\\n",
    "0 & 0 & 0 & 0 & 0 \\\\\n",
    "0 & 0 & 0 & 0 & 0 \\\\\n",
    "\\end{bmatrix}\n",
    "\\label{eq:aeqn}\n",
    "\\end{equation}\n",
    "De matrix is duidelijk nog onvolledig omdat we nog geen restricties hebben opgelegd,de restricties zijn met volgende filosofie aangelegd.\n",
    "* De eerste dag hebben we een restrictie van $ 100 * \\frac{3}{2}$.\n",
    "* De tweede dag beperken we $x2$ met $100 - \\frac{3}{2} * x1$ , Dit is zo omdat we $x2$ moeten beperken door het bedrag dat de vorige dag is belegd.\n",
    "* Bij de 3de dag wordt het \"ritueel\" duidelijk, alle vorige restricties zijn nog steeds geldig maar nu krijgen we het bedrag van de eerste dag dubbel terug. Dit betekent dat we de waarde van $x1$ er weer dubbel bijtellen terwijl we de beleggening van de dag ervoor er weer moeten aftrekken. De beperking ziet er als volgt uit $100 + \\frac{1}{2} * x1 - \\frac{3}{2} * x2$\n",
    "Indien we de restricties doortrekken dan verkrijgen we volgende matrix met grenzen:\n",
    "\n",
    "\\begin{equation}\n",
    "\\begin{bmatrix}\n",
    "x1 & 0 & 0 & 0 & 0 &| & \\leq 100 * \\frac{3}{2} \\\\\n",
    "0 & x2 & 0 & 0 & 0 &| & \\leq 100 - \\frac{3}{2} * x1\\\\\n",
    "0 & 0 & x3 & 0 & 0 &| & \\leq 100 + \\frac{1}{2} * x1 - \\frac{3}{2} * x2 \\\\\n",
    "0 & 0 & 0 & x4 & 0 &| & \\leq 100 + \\frac{1}{2} * (x1 + x2) - \\frac{3}{2} * x3 \\\\\n",
    "0 & 0 & 0 & 0 & x5 &| & \\leq 100 + \\frac{1}{2} * (x1 + x2 + x3) - \\frac{3}{2} * x4 \\\\\n",
    "0 & 0 & 0 & 0 & 0 &| & \\leq 100 + \\frac{1}{2} * (x1 + x2 + x3 + x4) - \\frac{3}{2} * x5 \\\\\n",
    "0 & 0 & 0 & 0 & 0 &| & \\leq 100 + \\frac{1}{2} * (x1 + x2 + x3 + x4 + x5) \\\\\n",
    "\\end{bmatrix}\n",
    "\\label{eq:beqn}\n",
    "\\end{equation}\n",
    "\n",
    "* Omdat we onbekenden hebben in de beperkingen hebben vormen we de matrix om naar een vorm waarmee de software berekeningen kan doen\n",
    "\n",
    "\\begin{equation}\n",
    "\\begin{bmatrix}\n",
    "x1 & 0 & 0 & 0 & 0 &| & \\leq 100 * \\frac{3}{2} \\\\\n",
    "\\frac{3}{2} * x1 & x2 & 0 & 0 & 0 &| & \\leq 100 \\\\\n",
    "- \\frac{1}{2} * x1 & \\frac{3}{2} * x2 & x3 & 0 & 0 &| & \\leq 100 \\\\\n",
    "- \\frac{1}{2} * x1 & - \\frac{1}{2} * x2 & \\frac{3}{2} * x3 & x4 & 0 &| & \\leq 100 \\\\\n",
    "- \\frac{1}{2} * x1 & - \\frac{1}{2} * x2 & - \\frac{1}{2} * x3 & \\frac{3}{2} * x4 & x5 &| & \\leq 100 \\\\\n",
    "- \\frac{1}{2} * x1 & - \\frac{1}{2} * x2 & - \\frac{1}{2} * x3 & - \\frac{1}{2} * x4 & \\frac{3}{2} * x5 &| & \\leq 100 \\\\\n",
    "- \\frac{1}{2} * x1 & - \\frac{1}{2} * x2 & - \\frac{1}{2} * x3 & - \\frac{1}{2} * x4 & - \\frac{1}{2} * x5 &| & \\leq 100 \\\\\n",
    "\\end{bmatrix}\n",
    "\\label{eq:ceqn}\n",
    "\\end{equation}\n",
    "\n",
    "De variabele die we willen maximaliseren is x5, dit omdat we de laatste dag zoveel mogelijk willen beleggen zodat we zondag zoveel mogelijk geld hebben.\n",
    "Bij de maximalisatie functie doen we $2 * x5$ zodat we direct de hoeveelheid geld zien, dit heeft geen invloed op het zoeken naar een maximum.\n",
    "* Het uitvoeren van de bovenstaande matrix met de pulp library geeft ons een maximalisatie van 254,09€ \n"
   ]
  },
  {
   "cell_type": "markdown",
   "metadata": {},
   "source": [
    "# 3) De tableaumethode (Simplex methode)\n",
    "Voor de simplex methode te illustreren gebruiken we een maximalistatie probleem dat we als volgt zullen opstellen.\n",
    "* Een maximalisatiefunctie $max (h) = c_{1} x_{1} + c_{2} x_{2} + ... + c_{n} x_{n}$\n",
    "* Een reeks constraints: $$\n",
    "\\begin{aligned}\n",
    "  a_{1,1}x_1 + a_{1,2}x_2 + ... + a_{1,n}x_n \\leq b_1\\\\\n",
    "  a_{2,1}x_1 + a_{2,2}x_2 + ... + a_{2,n}x_n \\leq b_2\\\\\n",
    "  ...\\\\\n",
    "  a_{m,1}x_1 + a_{m,2}x_2 + ... + a_{m,n}x_n \\leq b_m\\\\\n",
    "\\end{aligned}\n",
    "$$\n",
    "Deze vergelijkingen staan momenteel in eerste primale vorm, om ze om te vormen om met de Simplexmethode te werken nemen we nog een extra constraint dat inhoud dat geen enkele $x_1 , x_2 , ... , x_n$ negatief mag zijn. Dit zorgt ervoor dat de oplossingsruimte van variabelen geen oneindig grote ruimte meer kan zijn, visueel meer hierover verder. Vervolgens voegen we voor elke vergelijking een \"Slack variabele\" toe, de vergelijkingen ziet er dan als volgt uit: \\begin{aligned}\n",
    "  a_{1,1}x_1 + a_{1,2}x_2 + ... + a_{1,n}x_n + S_1 = b_1\\\\\n",
    "  a_{2,1}x_1 + a_{2,2}x_2 + ... + a_{2,n}x_n + S_2 = b_2\\\\\n",
    "  ...\\\\\n",
    "  a_{m,1}x_1 + a_{m,2}x_2 + ... + a_{m,n}x_n + S_m = b_m\\\\\n",
    "\\end{aligned}\n",
    "De slack variabelen voegen we toe zodat we van elke inequaliteit een equaliteit kunnen maken.\n",
    "Voorts demonstreren we een voorbeeld in een 2 dimensionale ruimte om de verdere intuitie van het probleem uit te leggen.\n",
    "<img src=\"simplex_method.png\"\n",
    "     alt=\"Markdown Monster icon\"\n",
    "     style=\"float: mid; margin-right: 20px;\" />\n",
    " Op de figuur zien we de 3 rechten die corresponderen met 3 lineaire vergelijkingen (van hoogstens dimensie 2) waar we de Slack variabelen op 0 hebben geinitialiseerd.\n",
    "* Merk op dat x1 en x2 niet negatief mogen zijn en dus enkel het positieve kwadrant hier wordt weergegeven. <br />\n",
    "Het algoritme werkt Grafisch als volgt, op de figuur die zichtbaar is kunnen we vanuit het punt $(0,0)$ 2 richtingen op. We kiezen de richting waar als we in de snijpunten van het beschikbaar gebied  komen onze maximalisatiefunctie zoveel mogelijk is gemaximaliseerd.\n",
    "In dit punt kunnen we terug meerdere mogelijkheden hebben om verschillende rechten van vergelijkingen te volgen, we kiezen steeds deze waar de maximalisatiefunctie zoveel mogelijk wordt gemaximaliseerd. Naast de grafische aanpak zullen we nu de theoretische aanpak nader toelichten.\n",
    "## Theoretische aanpak\n",
    "Voor de theoretische aanpak stellen we een matrix op voor al deze vergelijkingen met als onderste rij de maximalisatie functie herschreven naar volgende vorm $max (h) - c_{1} x_{1} - c_{2} x_{2} - ... - c_{n} x_{n} = 0$\n",
    "<img src=\"matrix7.png\"\n",
    "     alt=\"Markdown Monster icon\"\n",
    "     style=\"float: mid; margin-right: 20px;\" />\n",
    "Indien we dit in een matrix vorm schrijven dan krijgen we bovenstaand figuur. (met $ n \\leq m$) <br />\n",
    "De stappen die we nu doorlopen in een loop zijn als volgt\n",
    "* Pak min$ (c_1 , c_2 , ... , c_n) $ (indien dit een positief getal is dan zijn we klaar), Dit is de pivotkolom dus de richting waar de max(h) functie zoveel mogelijk wordt gemaximaliseerd\n",
    "* Indien er meerdere mogelijkheden zijn, dus meerdere lineaire vergelijkingen die in deze richting kunnen varieren (bv $a_{1,2} \\neq 0 $ en $ a_{2,2} \\neq 0$). Dan doen we volgende bewerking $\\frac{b}{a}$, de waarde die het kleinste positieve resultaat geeft deze nemen we aan. De grafische intuitie hieracter is dat de grotere waarde niet meer in het aanvaardings gebied ligt dat wordt gecreëerd door de kruisende rechten. Gelijkaardig voor de negatieve waarden, deze liggen ook niet in het aanvaardingsgebied.\n",
    "* Na dit doen we 2 zaken we delen de corresponderende $a_{i,j}$ door zichzelf (tenzij deze al 1 is) en delen de hele rij door dit getal. Vervolgens doen we elementaire rij operaties tot elk element in dezelfde kolom 0 is buiten de rij vanwaar $a_{i,j}$ komt.\n",
    "* Voorts moeten we nu controleren of elke $c_i$ al een positief getal is, indien dit niet het geval is herhalen we de loop weer, anders hebben we het antwoord\n",
    "Indien we het antwoord hebben hoeven we dit nog op de correcte manier te interpreteren, een antwoord kan er als volgt uitzien.\n",
    "<img src=\"matrix5.png\"\n",
    "     alt=\"Markdown Monster icon\"\n",
    "     style=\"float: mid; margin-right: 20px;\" />\n",
    "We negeren het feit dat sommige waarden hetzelfde zijn gebleven als vorige matrix, tussen $g_1$ tot $g_m$ vinden we de respectievelijke waarden voor $x_1$ tot $x_n$.\n",
    "Op de laatste rij vinden we in de constraint kolom de maximalisatie van onze functie.\n",
    "Wat natuurlijk de antwoord op de intiele vraag van het probleem was.\n",
    "# 4) Tableau methode zonder ondergrens\n",
    "1 van de vereisten zodat de tableaumethode werkt is dat elke variabele positief is, de tableaumethode zou hier dus geen oplossing voor kunnen vinden.\n",
    "\n",
    "\n",
    "# Referenties \n",
    "* https://www.youtube.com/watch?v=jh_kkR6m8H8\n",
    "* https://ece.uwaterloo.ca/~dwharder/NumericalAnalysis/16LP/simplex/theory.html\n"
   ]
  },
  {
   "cell_type": "code",
   "execution_count": null,
   "metadata": {},
   "outputs": [],
   "source": [
    "\n",
    "\n",
    "\n"
   ]
  },
  {
   "cell_type": "code",
   "execution_count": null,
   "metadata": {},
   "outputs": [],
   "source": []
  }
 ],
 "metadata": {
  "kernelspec": {
   "display_name": "Python 3",
   "language": "python",
   "name": "python3"
  },
  "language_info": {
   "codemirror_mode": {
    "name": "ipython",
    "version": 3
   },
   "file_extension": ".py",
   "mimetype": "text/x-python",
   "name": "python",
   "nbconvert_exporter": "python",
   "pygments_lexer": "ipython3",
   "version": "3.7.6"
  }
 },
 "nbformat": 4,
 "nbformat_minor": 4
}
