{
 "cells": [
  {
   "cell_type": "markdown",
   "metadata": {},
   "source": [
    "# Taak - Lineair Programmeren"
   ]
  },
  {
   "cell_type": "markdown",
   "metadata": {},
   "source": [
    "## PuLP\n",
    "\n",
    "Installeer PuLP via conda in de terminal:<br>\n",
    "conda install -c conda-forge pulp"
   ]
  },
  {
   "cell_type": "code",
   "execution_count": 10,
   "metadata": {},
   "outputs": [],
   "source": [
    "from pulp import *"
   ]
  },
  {
   "cell_type": "markdown",
   "metadata": {},
   "source": [
    "## Beschrijving van het probleem\n",
    "\n",
    "Veronderstel dat je 100 euro ter beschikking hebt om te investeren. Iedere dag van de week (maandag t.e.m. vrijdag), maar niet tijdens het weekend (zaterdag en zondag), kan je beslissen hoeveel geld je wilt investeren. Als je beslist om een investering te maken, <u>moet</u>\n",
    "je de volgende dag 50% van de initiele investering bijleggen. De dag erna krijg je\n",
    "2 keer zoveel van je initiele investering terug. Uiteindelijk wil je op zondag jouw\n",
    "totale winst berekenen.\n",
    "Bijvoorbeeld, een naive methode zou zijn om steeds het hoogst mogelijke bedrag te\n",
    "investeren:\n",
    "* Maandag: Je beslist om 66.66 euro te investeren. (33.33 euro over)\n",
    "* Dinsdag: Je moet 33.33 euro bijleggen. (0 euro over)\n",
    "* Woensdag: Je krijgt 133.32 euro terug. Je investeert nu 88.88 euro. (44.44 euro over)\n",
    "* Donderdag: Je moet 44.44 euro bijleggen. (0 euro over)\n",
    "* Vrijdag: Je krijgt 177.75 euro terug.  Je investeert nu 118.5 euro. (59.25 euro over)\n",
    "* Zaterdag: Je moet 59.25 euro bijleggen. (0 euro over)\n",
    "* Zondag: Je hebt nu in totaal 237 euro.\n",
    "\n",
    "Het probleem met deze methode is dat je de opportuniteit om te investeren op dinsdag en donderdag verliest. Je beslist om dit proces te optimaliseren m.b.v. lineair programmeren."
   ]
  },
  {
   "cell_type": "markdown",
   "metadata": {},
   "source": [
    "## Rapport\n",
    "\n",
    "Bespreek de onderstaande stellingen en vragen.\n",
    "\n",
    "1. Stel het bovenstaand probleem op als een <i>Linear Programming</i> probleem in <u>eerste primale vorm</u>.\n",
    "2. Los het probleem op gebruikmakend van PuLP.\n",
    "3. Bespreek de werking van de tableaumethode in je eigen woorden.\n",
    "4. Stel dat je geen ondergrens hebt voor de variabelen (dus, $\\forall x\\ :\\ x \\in \\mathbb{R}$), en dus negatief geld investeren wordt mogelijk. Bestaat er nog steeds een oplossing, en zoja, startend van het nulpunt (dus, $x = 0, \\forall x$), kan de tableaumethode deze vinden? Bespreek."
   ]
  },
  {
   "cell_type": "code",
   "execution_count": 50,
   "metadata": {},
   "outputs": [
    {
     "name": "stdout",
     "output_type": "stream",
     "text": [
      "Mixed products:\n",
      "MAXIMIZE\n",
      "2*Investment_5 + 0\n",
      "SUBJECT TO\n",
      "_C1: Investment_1 <= 66.6666666667\n",
      "\n",
      "_C2: 1.5 Investment_1 + Investment_2 <= 100\n",
      "\n",
      "_C3: - 0.5 Investment_1 + 1.5 Investment_2 + Investment_3 <= 100\n",
      "\n",
      "_C4: - 0.5 Investment_1 - 0.5 Investment_2 + 1.5 Investment_3 + Investment_4\n",
      " <= 100\n",
      "\n",
      "_C5: - 0.5 Investment_1 - 0.5 Investment_2 - 0.5 Investment_3\n",
      " + 1.5 Investment_4 + Investment_5 <= 100\n",
      "\n",
      "_C6: - 0.5 Investment_1 - 0.5 Investment_2 - 0.5 Investment_3\n",
      " - 0.5 Investment_4 + 1.5 Investment_5 <= 100\n",
      "\n",
      "_C7: - 0.5 Investment_1 - 0.5 Investment_2 - 0.5 Investment_3\n",
      " - 0.5 Investment_4 - 0.5 Investment_5 <= 100\n",
      "\n",
      "VARIABLES\n",
      "0 <= Investment_1 Integer\n",
      "0 <= Investment_2 Integer\n",
      "0 <= Investment_3 Integer\n",
      "0 <= Investment_4 Integer\n",
      "0 <= Investment_5 Integer\n",
      "\n",
      "Optimal\n",
      "46.0 31.0 71.0 31.0 126.0 252.0\n"
     ]
    }
   ],
   "source": [
    "\n",
    "# Create problem \n",
    "prob = LpProblem(\"Mixed products\", LpMaximize)\n",
    "\n",
    "#days \n",
    "Investment_1 = LpVariable(\"Investment_1\", cat=LpInteger, lowBound=0)   \n",
    "Investment_2 = LpVariable(\"Investment_2\", cat=LpInteger, lowBound=0)\n",
    "Investment_3 = LpVariable(\"Investment_3\", cat=LpInteger, lowBound=0)   \n",
    "Investment_4 = LpVariable(\"Investment_4\", cat=LpInteger, lowBound=0)\n",
    "Investment_5 = LpVariable(\"Investment_5\", cat=LpInteger, lowBound=0)\n",
    "\n",
    "# Objective Function:\n",
    "## Profit\n",
    "prob += Investment_5 * 2\n",
    "\n",
    "\n",
    "# Constraints: \n",
    "prob += Investment_1 + Investment_2*0 + Investment_3*0 + Investment_4*0 + Investment_5*0   <= (2/3)*100\n",
    "prob += Investment_1*(3/2) + Investment_2 + Investment_3*0 + Investment_4*0 + Investment_5*0 <= 100\n",
    "prob += -Investment_1*(1/2) + Investment_2*(3/2) + Investment_3 + Investment_4*0 + Investment_5*0 <= 100\n",
    "prob += -Investment_1*(1/2) - Investment_2*(1/2) + Investment_3*(3/2) + Investment_4 + Investment_5*0 <= 100\n",
    "prob += -Investment_1*(1/2) - Investment_2*(1/2) - Investment_3*(1/2) + Investment_4*(3/2) + Investment_5 <= 100\n",
    "prob += -Investment_1*(1/2) - Investment_2*(1/2) - Investment_3*(1/2) - Investment_4*(1/2) + Investment_5*(3/2) <= 100\n",
    "prob += -Investment_1*(1/2) - Investment_2*(1/2) - Investment_3*(1/2) - Investment_4*(1/2) - Investment_5*(1/2) <= 100\n",
    "#intuitie die gebruikt is bij het opstellen van deze vergelijkingen\n",
    "#de eerste belegging kan maximaal (2/3)*100 zijn, we definieren alle x waarden als een bedrag x1 kan dus maximaal 66.66 zijn\n",
    "#Bij de 2de vergelijking hadden we initieel overal 0 buiten op x2 natuurlijk, de constraint was hier anders namelijk 100 - (3/2)x1.\n",
    "#We willen geen onbekenden in de constraint dus in de vergelijking is deze al opgeschoven in de vergelijking.\n",
    "\n",
    "#Bij de derde vergelijking krijgt het \"ritueel\" dat we doen zijn volledige vorm\n",
    "#We hebben nog steeds -(3/2)x1 als constraint maar krijgen nu 2*x1 erbij , dit resulteert naar (1/2)x1 we mogen ook niet vergeten dat we nu nog -(3/2)x2 moeten aftrekken\n",
    "#Vervolgens hebben we dus bij vergelijking 3 de volgende constraint 100 + (1/2)x1 -(3/2)x2 opnieuw verschuiven we de constraint naar de vergelijking.\n",
    "#De verdere constraints gebeuren op een eenzelfde manier met als verschil dat er zaterdag en zondag geen bijkomende 6de en 7de investering kan komen\n",
    "\n",
    "\n",
    "\n",
    "print(prob)\n",
    "\n",
    "status = prob.solve()    # Solver \n",
    "print(LpStatus[status])   # The solution status \n",
    "  \n",
    "# Printing the final solution \n",
    "print(value(Investment_1), value(Investment_2), value(Investment_3), value(Investment_4), value(Investment_5) ,  value(prob.objective))\n",
    "\n",
    "\n",
    "\n",
    "\n",
    "\n",
    "\n",
    "\n",
    "\n",
    "\n",
    "\n",
    "\n",
    "\n",
    "\n",
    "\n"
   ]
  },
  {
   "cell_type": "code",
   "execution_count": null,
   "metadata": {},
   "outputs": [],
   "source": []
  },
  {
   "cell_type": "code",
   "execution_count": null,
   "metadata": {},
   "outputs": [],
   "source": []
  }
 ],
 "metadata": {
  "kernelspec": {
   "display_name": "Python 3",
   "language": "python",
   "name": "python3"
  },
  "language_info": {
   "codemirror_mode": {
    "name": "ipython",
    "version": 3
   },
   "file_extension": ".py",
   "mimetype": "text/x-python",
   "name": "python",
   "nbconvert_exporter": "python",
   "pygments_lexer": "ipython3",
   "version": "3.7.6"
  }
 },
 "nbformat": 4,
 "nbformat_minor": 4
}
