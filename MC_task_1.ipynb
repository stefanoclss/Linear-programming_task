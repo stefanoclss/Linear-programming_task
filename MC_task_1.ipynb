{
 "cells": [
  {
   "cell_type": "markdown",
   "metadata": {},
   "source": [
    "# Metropolis-Hastings\n",
    "\n",
    "Markov chain Monte Carlo (*MCMC*) are general purpose methods to generate samples from any probability distribution $\\pi(\\mathbf{x})$ where $\\mathbf{x} \\in S$. From now on\n",
    "$\\pi(\\mathbf{x})$ is called the **target**. The state space $S$ can be finite, countable infinite or $S \\subseteq \\mathbb{R}^{d}$ for some positive integer $d$.\n",
    "\n",
    "Starting from an initial state $\\mathbf{x}_{0}$, *MCMC* proceeds as follows.\n",
    "\n",
    "1. Generate a candidate $\\mathbf{x}^{*}$ using a **proposal** distribution \n",
    "$q(\\mathbf{x}^{*}; \\mathbf{x}_n)$ centered at the current state $\\mathbf{x}_n$. \n",
    "\n",
    "2. Decide whether $\\mathbf{x}^{*}$ or $\\mathbf{x}_n$ becomes the next state \n",
    "$\\mathbf{x}_{n + 1}$.\n",
    "\n",
    "\n",
    "## Proposal distribution\n",
    "\n",
    "The only requirement for a proposal distribution $q(\\mathbf{x}^{'}; \\mathbf{x})$ \n",
    "is that it is easy to generate samples from it. $q(\\mathbf{x}^{'}; \\mathbf{x})$ is the probability to arrive in infinitisimal \n",
    "region $\\mathbf{x}^{*}d\\mathbf{x}$ centered in $\\mathbf{x}^{*}$ when in state\n",
    "$\\mathbf{x}_n$\n",
    "\n",
    "If $q(\\mathbf{x}^{'}; \\mathbf{x}) = q(\\mathbf{x}; \\mathbf{x}^{'})$ \n",
    "the proposal distribution is **symmetric** otherwise it is **asymmetric**. \n",
    "\n",
    "The 1-dimensional Gaussian distribution \n",
    "$$q(x^{'};x) = \\frac{1}{ \\sigma \\sqrt{2 \\pi}} e^{-\\frac{1}{2} (\\frac{x^{'} - x}{\\sigma})^2}$$\n",
    "is a symmetric proposal distribution. The symmetric and asymmetric uniform distributions given below are other examples. The parameter $\\sigma$ tells us how far on average the candidate \n",
    "is generated from the current state. *MCMC*-performance depends critically on the spread $\\sigma$. \n",
    "\n",
    "*Note*: Some other people use the notation $q(\\mathbf{x}^{'} | \\mathbf{x})$ instead of $q(\\mathbf{x}^{'}; \\mathbf{x})$. \n",
    "\n",
    "## Acceptance decision\n",
    "\n",
    "The decision to accept the proposed candidate is such that if $\\mathbf{x}_n$ is generated according to the target this is also the case for $\\mathbf{x}_{n +1}$: \n",
    "$$\\mathbf{x}_{n} \\sim \\pi(\\mathbf{x}) \\text{   implies   } \\mathbf{x}_{n +1} \\sim \\pi(\\mathbf{x})$$\n",
    "Once the chain converged the states generated follow the target distribution. \n",
    "In other words the converged chain acts like random generator for the target.\n",
    "\n",
    "## Metropolis-Hastings\n",
    "\n",
    "The **Metropolis-Hastings** or *MH*-algorithm is the canonical example of *MCMC*.\n",
    "\n",
    "The probability $\\alpha_{MH}$ that the candidate $\\mathbf{x}^{*}$ becomes the next state\n",
    "$\\mathbf{x}_{n + 1}$, when $\\mathbf{x}_{n}$ is the current state, is given by\n",
    "\n",
    "$$\\alpha_{MH}(\\mathbf{x}^{*}; \\mathbf{x}_{n} ) =  \\min \\left\\lbrace   1, \\dfrac{ \\pi(\\mathbf{x}^* ) \n",
    "q(\\mathbf{x}_n ; \\mathbf{x}^*)} {\\pi(\\mathbf{x}_{n})  q(\\mathbf{x}^{*} ; \\mathbf{x}_n)}\\right\\rbrace $$\n",
    "Note that $1 - \\alpha_{MH}$ is the probabilityb that $\\mathbf{x}_{n}$ is the next state.\n",
    "\n",
    "For a **symmetric** proposal distribution the above criterion simplies to \n",
    "\n",
    "$$\\alpha_{MH}(\\mathbf{x}^{*}; \\mathbf{x}_{n} ) =  \\min \\left\\lbrace   1, \\dfrac{ \\pi(\\mathbf{x}^* ) \n",
    "} {\\pi(\\mathbf{x}_{n}) }\\right\\rbrace $$"
   ]
  },
  {
   "cell_type": "markdown",
   "metadata": {},
   "source": [
    "# Performance of *MH*\n",
    "\n",
    "The spread of the proposal distribution, e.g. the variance $\\sigma^2$ in the Gaussian distribution above, has a high impact on the performance of $MH$.\n",
    "\n",
    "If the spread is too small the acceptance probability $\\alpha_{MH}(\\mathbf{x}^{*}; \\mathbf{x}_{n} )$ is very high since $\\pi(\\mathbf{x}^{*}) \\approx \\pi(\\mathbf{x}_{n})$.\n",
    "But the chain moves most of the time to nearby states. It takes too long to explore \n",
    "far away regions.\n",
    "\n",
    "If the spread is too large, the acceptance probability becomes too small. \n",
    "The chain stays in the same state for longer periods of time before it makes a large jump.\n",
    "\n",
    "The spread of the proposal distribution has to be tuned to find the right balance.\n",
    "An acceptance probability of about 30\\% is considered ideal."
   ]
  },
  {
   "cell_type": "markdown",
   "metadata": {},
   "source": [
    "# Assignment\n",
    "\n",
    "Compare symmetric and asymmetric proposal distributions on a asymmetric target with one heavy tail. Use different values for the spread of the proposal.\n",
    "\n",
    "1. the target is a log-normal distribution\n",
    "2. the symmetric and asymmetric proposal distributions are the uniform distributions \n",
    "$U(- \\rho, \\rho)$ and $U(\\frac{1}{\\rho}, \\rho)$, respectively, where $\\rho > 0$ is the spread.\n",
    "\n",
    "The are described next."
   ]
  },
  {
   "cell_type": "markdown",
   "metadata": {},
   "source": [
    "## Log-normal  distribution\n",
    "\n",
    "Suppose we want to draw samples from the **log-normal** probability distribution with parameters $\\mu = 2.0$ and $\\sigma = 0.75$ \n",
    "\n",
    "$$\\pi(x ; \\mu, \\sigma) = \\frac{1}{x \\sigma \\sqrt{2 \\pi}} e^{- \\frac{1}{2} {\\left(\\frac{\\ln x - \\mu}{ \\sigma } \\right)} ^2} ~~~ x > 0\n",
    "$$where $\\ln \\triangleq \\log_e$ is the natural logarithm. \n",
    "\n",
    "The log-normal distribution is asymetric in nature."
   ]
  },
  {
   "cell_type": "markdown",
   "metadata": {},
   "source": [
    "## Symmetric Proposal $U(- \\rho, \\rho)$\n",
    "\n",
    "$U(- \\rho, \\rho)$ is the uniform distribution on the closed interval $[- \\rho, \\rho ]$.\n",
    "The tunable parameter $\\rho > 0$ is the spread. Note that $U$ is symmetric around $0$.\n",
    "\n",
    "When in $x$, *MH* generates the candidate \n",
    "$$x^{*} \\sim U(x - \\rho, x+ \\rho)$$\n",
    "But this is equivalent to \n",
    "$$\n",
    "x^* = x + \\Delta x \\text{ where } \\Delta x \\sim U(-\\rho,\\rho)\n",
    "$$\n",
    "\n",
    "The proposal distribution $q(x^* ; x) = U(x - \\rho, x+ \\rho)$ is symmetric. \n",
    "The probability of arriving in the interval $[x^*, x^* + dx]$ when we are at $x$ is:\n",
    "\n",
    "$$q(x^* ; x) = \\frac{dx}{2\\rho}$$\n",
    "\n",
    "While the probability that $x$ is the interval $[x, x + dx]$ when we are at $x^*$ is given by\n",
    "\n",
    "$$q(x ; x^*) = \\frac{dx}{2\\rho}= q( x^* ; x) $$\n",
    "\n",
    "The two probabilities cancel out and the acceptance criteria for **symmetric** proposals applies \n",
    "\n",
    "\n",
    "$$\\alpha_{MH}(x^{*}; x_{n} ) =  \\min \\left\\lbrace   1, \\dfrac{ \\pi(x^* ) \n",
    "} {\\pi(x_{n}) }\\right\\rbrace $$\n"
   ]
  },
  {
   "cell_type": "markdown",
   "metadata": {},
   "source": [
    "# Asymmetric Proposal $U(\\frac{1}{\\rho}, \\rho)$\n",
    "\n",
    "\n",
    "In case of the $U(\\frac{1}{\\rho}, \\rho)$ as proposal the candidates will be generated in the **log**-domain instead, i.e. \n",
    "$$x^* =  \\beta x, ~~~ \\beta \\sim U(\\frac{1} {\\rho}, \\rho)$$\n",
    "\n",
    "Note that the proposal distribution $U(x - \\frac{1}{\\rho}, x + \\rho)$ is asymmetric. The probability that the candidate $x^*$  is in the interval $[x^*, x^* + dx]$ \n",
    "when we are at $x$ is given by\n",
    "\n",
    "$$q(x^* ; x) = \\frac{dx}{x(\\rho - 1/\\rho)}$$\n",
    "\n",
    "While the probability that $x$ is the interval $[x, x + dx]$ when we are at $x^*$ is given by\n",
    "\n",
    "$$q(x ; x^*) = \\frac{dx}{x^*(\\rho - 1/\\rho)}$$\n",
    "\n",
    "\n",
    "The ratio of the two equals\n",
    "\n",
    "$$\\frac{q(x^* ; x)}{q(x ; x^*)} = \\frac{x^*}{x}$$\n",
    "\n",
    "Since this ratio is different from one we have to use \n",
    "\n",
    "$$\\alpha_{MH}(x^{*}; x_{n} ) =  \\min \\left\\lbrace   1, \\dfrac{ \\pi(x^* ) \n",
    "q(x_n ; x^*)} {\\pi(x_{n})  q(x^{*} ; {x}_n)}\\right\\rbrace $$\n",
    "\n",
    "instead of the simplified expression for symmetric proposals.\n",
    "\n",
    "Going beyond symmetric proposal distributions  makes it possibility to propose bold moves and still have a high acceptance probability. This is an immediate consequence of the equation for MH-acceptance probability above.\n",
    "\n",
    "Note that the candidate $x^*$ will always be accepted if we can find an asymmetric proposal distribution satisfying\n",
    "\n",
    "$$\n",
    "\\frac{q(x^* ; x)}{q(x ; x^*)} = \\frac{\\pi(x^*)}{\\pi(x)}\n",
    "$$\n",
    "\n",
    "where $\\pi$ is the target distribution as usual."
   ]
  },
  {
   "cell_type": "code",
   "execution_count": 1,
   "metadata": {},
   "outputs": [],
   "source": [
    "import numpy as np\n",
    "import matplotlib.pyplot as plt\n",
    "import seaborn as sns\n",
    "from mpmath import *\n",
    "import scipy.stats as ss\n",
    "from scipy.stats import lognorm"
   ]
  },
  {
   "cell_type": "code",
   "execution_count": 2,
   "metadata": {},
   "outputs": [],
   "source": [
    "np.random.seed=10000"
   ]
  },
  {
   "cell_type": "markdown",
   "metadata": {},
   "source": [
    "# *Target*: Log-normal "
   ]
  },
  {
   "cell_type": "code",
   "execution_count": 3,
   "metadata": {},
   "outputs": [],
   "source": [
    "def specify_log_normal2(mu=2.0, sigma=0.75):\n",
    "    return lambda x: (np.exp(-(np.log(x)-mu)**2/(2*sigma**2))/(x*sigma*np.sqrt(2*np.pi)))"
   ]
  },
  {
   "cell_type": "code",
   "execution_count": 4,
   "metadata": {},
   "outputs": [],
   "source": [
    "def specify_log_normal(mu=2.0, sigma=0.75):\n",
    "    return lambda x: (np.exp(-1/2*((np.log(x)-mu)/sigma)**2)/(x*sigma*np.sqrt(2*np.pi)))"
   ]
  },
  {
   "cell_type": "code",
   "execution_count": 5,
   "metadata": {},
   "outputs": [],
   "source": [
    "def plot_function(p, start, stop, resolution):\n",
    "    x = np.linspace(start, stop, resolution, endpoint=True)\n",
    "    p_of_x = p(x)\n",
    "    fig, ax = plt.subplots()\n",
    "    ax.plot(x, p(x))\n",
    "    ax.set(xlim=(start, stop), ylim=(0.0, np.max(p_of_x)), \n",
    "           xlabel='$x$', ylabel='$\\pi(x)$', \n",
    "           title=f'Log-normal distribution with parameters')"
   ]
  },
  {
   "cell_type": "code",
   "execution_count": 6,
   "metadata": {},
   "outputs": [
    {
     "data": {
      "image/png": "[encoded data removed]",
      "text/plain": [
       "<Figure size 432x288 with 1 Axes>"
      ]
     },
     "metadata": {
      "needs_background": "light"
     },
     "output_type": "display_data"
    }
   ],
   "source": [
    "plot_function(p=specify_log_normal2(mu=2.0, sigma=0.75), \n",
    "              start=10**-100, stop=80, resolution=100)"
   ]
  },
  {
   "cell_type": "markdown",
   "metadata": {},
   "source": [
    "# Log-normal with symmetric proposal"
   ]
  },
  {
   "cell_type": "code",
   "execution_count": 12,
   "metadata": {},
   "outputs": [
    {
     "data": {
      "image/png": "[encoded data removed]",
      "text/plain": [
       "<Figure size 432x288 with 1 Axes>"
      ]
     },
     "metadata": {
      "needs_background": "light"
     },
     "output_type": "display_data"
    }
   ],
   "source": [
    " \n",
    "mu = 2.0   #waarde die gekozen is voor de targetfunctie\n",
    "sigma = 0.75 #idem\n",
    "rho = 200\n",
    "\n",
    "np.seterr(divide='raise', invalid='raise')    #extra duiding bij errors\n",
    "\n",
    "target_1 = lambda x: (np.exp(-(np.log(x)-mu)**2/(2*sigma**2))/(x*sigma*np.sqrt(2*np.pi)))    #De 2 target functies\n",
    "target_2 = lambda x: (np.exp(-1/2*((np.log(x)-mu)/sigma)**2)/(x*sigma*np.sqrt(2*np.pi)))     \n",
    "\n",
    "symmetric_proposal = lambda x: x +  np.random.uniform(-rho , rho)                            #de symmetrische proposal\n",
    "\n",
    "iters = 50000\n",
    "burn_in = 10000\n",
    "\n",
    "def plot_density(pdf, title=\"\"):\n",
    "    xs = np.linspace(0.0001, 100 , 1000)\n",
    "    plt.plot(xs, list(map(pdf, xs)), 'b')\n",
    "    plt.title(title);\n",
    "    plt.xlabel(\"Rho\");\n",
    "    plt.show()\n",
    "\n",
    "\n",
    "def mcmc(target, proposal, iters):\n",
    "    accepts = 0\n",
    "    rho = 200                             #rho die we kunnen instellen (plek waar geoptimaliseerd moet worden)\n",
    "    samples = [rho]\n",
    "    for i in range(iters):\n",
    "        if rho > 0:\n",
    "            rho_p = proposal(rho)\n",
    "            if rho_p > 0:                          #metropolis Hastings, algoritme\n",
    "                alpha = min(1, target(rho_p) / target(rho))    #Kijk wat de acceptatieratio gaat zijn, dmv de gegeven functie\n",
    "                u = np.random.uniform()                        #Maak een willekeurig getal dat beslissend is om gegeven rho waarde te accepteren of niet\n",
    "                if u < alpha:\n",
    "                    accepts += 1                               #doe de totaal aantal acceptaties omhoog\n",
    "                    rho = rho_p                                #update de rho waarde door de proposol om erna de proposal te steken in de proposalfunctie\n",
    "                samples.append(rho)\n",
    "    return samples\n",
    "\n",
    "samples = mcmc(target_2 , symmetric_proposal , iters)\n",
    "plt.hist(samples[burn_in:], 50, density=1, facecolor='green', alpha=0.6)   #teken een histogram voor de geacepteerde rho waarden\n",
    "\n",
    "plot_density(target_2)                                                     #teken de gewilde targetfunctie erbij \n",
    "                                                                           #assymetric proposal werkt op een gelijkaardige manier maar met andere functies"
   ]
  },
  {
   "cell_type": "markdown",
   "metadata": {},
   "source": [
    "# *Target*: Log-normal with assymmetric proposal"
   ]
  },
  {
   "cell_type": "code",
   "execution_count": 11,
   "metadata": {},
   "outputs": [
    {
     "data": {
      "image/png": "[encoded data removed]",
      "text/plain": [
       "<Figure size 432x288 with 1 Axes>"
      ]
     },
     "metadata": {
      "needs_background": "light"
     },
     "output_type": "display_data"
    }
   ],
   "source": [
    "mp.dps = 5000\n",
    "\n",
    "mu = 2.0\n",
    "sigma = 0.75\n",
    "rho= 1.25\n",
    "\n",
    "target_1 = lambda x: (exp(-(log(x)-mu)**2/(2*sigma**2))/(x*sigma*sqrt(2*np.pi)))\n",
    "target_2 = lambda x: (exp(-1/2*((log(x)-mu)/sigma)**2)/(x*sigma*sqrt(2*np.pi)))\n",
    "\n",
    "assymetric_proposal = lambda x: x * ( np.random.uniform((1 / rho) , rho))\n",
    "\n",
    "iters = 5000\n",
    "burn_in = 1000\n",
    "\n",
    "def mcmc(target, proposal, iters):\n",
    "    accepts = 0\n",
    "    rho = 1.25\n",
    "    samples = [rho]\n",
    "    for i in range(iters):\n",
    "        if rho > 0:\n",
    "            rho_p = proposal(rho)\n",
    "            if rho_p > 0:\n",
    "                alpha = min(1, (target(rho_p) / target(rho))*(rho / rho_p))   #plaats waar de acceptatieratio wordt berkend\n",
    "                #print(alpha)\n",
    "                u = np.random.uniform()    \n",
    "                if u < alpha:                                                 #acceptatie adhv een willekeurig getal tussen 0 en 1\n",
    "                    accepts += 1\n",
    "                    rho = rho_p\n",
    "                samples.append(rho)\n",
    "    return samples\n",
    "\n",
    "samples = mcmc(target_2 , assymetric_proposal , iters)\n",
    "plt.hist(samples[burn_in:], 50, density=1, facecolor='green', alpha=0.6)\n",
    "\n",
    "plot_density(target_2)"
   ]
  },
  {
   "cell_type": "code",
   "execution_count": null,
   "metadata": {},
   "outputs": [],
   "source": []
  },
  {
   "cell_type": "code",
   "execution_count": null,
   "metadata": {},
   "outputs": [],
   "source": []
  }
 ],
 "metadata": {
  "kernelspec": {
   "display_name": "Python 3",
   "language": "python",
   "name": "python3"
  },
  "language_info": {
   "codemirror_mode": {
    "name": "ipython",
    "version": 3
   },
   "file_extension": ".py",
   "mimetype": "text/x-python",
   "name": "python",
   "nbconvert_exporter": "python",
   "pygments_lexer": "ipython3",
   "version": "3.7.6"
  }
 },
 "nbformat": 4,
 "nbformat_minor": 4
}
